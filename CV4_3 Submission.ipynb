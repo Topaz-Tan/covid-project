{
 "cells": [
  {
   "cell_type": "markdown",
   "metadata": {},
   "source": [
    "## Covid vaccination centres recommendations based on distance.\n",
    "\n",
    "\n",
    "\n",
    "### Information\n",
    "\n",
    "The COVID-19 vaccination programme seeks to protect Singaporeans against COVID-19, as well as to protect businesses and jobs through the progressive re-opening of Singapore. Vaccination is free to all Singaporeans and long-term residents in Singapore.\n",
    "\n",
    "Visit https://www.vaccine.gov.sg/ today to book your appointment today.\n",
    "\n",
    "Code written by Topaz Tan, Michael Ng and Daren Neo\n",
    "\n",
    "### Explanation\n",
    "\n",
    "This notebook comprises two parts. Part 1 explains our code in detail. Part 2 prepares our functions. Part 3 provides an example of how our application will run. It will have functions that users can call to use our application.\n",
    "\n",
    "### For users\n",
    "Please run all the cells in Parts 1 and 2 before continuing to Part 3.\n",
    "\n",
    "-----\n",
    "## Part 1\n",
    "\n",
    "### Find your nearest vaccination centre\n",
    "Welcome! Here, you can find out the nearest vaccination centre near you.\n",
    "\n",
    "First, install all the necessary libraries."
   ]
  },
  {
   "cell_type": "code",
   "execution_count": null,
   "metadata": {},
   "outputs": [],
   "source": [
    "!pip install geopy\n",
    "!pip install haversine\n",
    "!pip install folium\n",
    "import pandas as pd\n",
    "import folium # map rendering library\n",
    "import haversine as hs #Haversine function\n",
    "from geopy.geocoders import Nominatim\n",
    "\n",
    "print('Libraries imported.')"
   ]
  },
  {
   "cell_type": "markdown",
   "metadata": {},
   "source": [
    "Next, we will load the data we need. \n",
    "\n",
    "Data retrieved from https://www.vaccine.gov.sg/locations-vcs"
   ]
  },
  {
   "cell_type": "code",
   "execution_count": null,
   "metadata": {},
   "outputs": [],
   "source": [
    "cc_list=['Radin Mas CC','Kolam Ayer CC','Buona Vista CC','Potong Pasir CC','Raffles Convention Centre','Tanjong Pagar CC','Jalan Besar CC','Bishan CC','Queenstown CC','Toa Payoh West CC','Marine Parade CC','Bukit Timah CC','Geylang Serai CC','Tampines East CC','Changi Airport T4','Bedok CC','Pasir Ris Elias CC','Arena@OTH Tampines','Marsiling CC','Woodlands CC','Woodlands Galaxy CC','Canberra CC','Nee Soon East CC','Kebun Baru CC','Punggol 21 CC','Serangoon CC','Sengkang CC','Hougang CC','Teck Ghee CC','Hong Kah North CC','Yew Tee CC','Former Hong Kah Secondary School','Taman Jurong CC','Yuhua CC','Nanyang CC','Clementi CC','Senja Cashew CC','Chua Chu Kang CC'] \n",
    "\n",
    "cc_regions = ['Central','Central','Central','Central','Central','Central','Central','Central','Central','Central','Central','Central','Central','East','East','East','East','East','North','North','North','North','North','Northeast','Northeast','Northeast','Northeast','Northeast','Northeast','West','West','West','West','West','West','West','West','West']\n",
    "\n",
    "cc_latitudes = [1.276,1.324,1.309,1.333,1.293,1.276,1.308,1.35,1.299,1.335,1.305,1.341,1.316,1.353,1.338,1.324,1.378,1.352,1.441,1.44,1.439,1.445,1.431,1.373,1.393,1.37,1.3935,1.365,1.363,1.359,1.395,1.352,1.335,1.34,1.342,1.319,1.381,1.381]\n",
    "\n",
    "cc_longitudes = [103.82,103.87,103.792,103.867,103.854,103.842,103.862,103.85,103.801,103.845,103.91,103.772,103.897,103.955,103.984,103.936,103.943,103.94,103.774,103.788,103.802,103.82,103.8385,103.8377,103.914,103.874,103.894,103.892,103.853,103.749,103.7447,103.727,103.722,103.737,103.692,103.768,103.7646,103.752]\n",
    "\n",
    "cc_contacts = [62735294,62935572,67785163,62801182,63397777,62219898,62986110,62594720,64741681,63530577,63467703,\n",
    "64662912,67472919,67863227,65956868,64425317,65831220,63403636,62696768,63689938,63662218,67556369,\n",
    "62570446,64577379,63120508,62858833,63125400,62828887,64567123,65673130,67693672,65679655,62651711,\n",
    "65604490,67910395,67762517,62194561,67691694]\n",
    "\n",
    "cc_addresses = ['51 Telok Blangah Crescent 098917','1 Geylang Bahru Lane 339631','36 Holland Drive 270036','6 Potong Pasir Avenue 2 358361',\n",
    "                '80 Bras Basah Road 189560','101 Cantonment Road 089774','69 Jellicoe Road 208737','51 Bishan Street 13 579799',\n",
    "                '365 Commonwealth Avenue 149732','200 Lorong 2 Toa Payoh 319642','278 Marine Parade Road 449282','20 Toh Yi Drive 596569',\n",
    "                '1 Engku Aman Turn 408528','10 Tampines Street 23 529341','10 Airport Boulevard 819665','850 New Upper Changi Road 467352',\n",
    "                '93 Pasir Ris Drive 3 519498','1 Tampines Walk 528523','100 Admiralty Road 739980','1 Woodlands Street 81 738526',\n",
    "                '31 Woodlands Ave 6 738991','2 Sembawang Crescent 757632','1 Yishun Avenue 9 768893','216 Ang Mo Kio Avenue 4 569897',\n",
    "                '80 Punggol Field 828815','10 Serangoon North Avenue 2 555877','2 Sengkang Square 525025','35 Hougang Avenue 3 538840',\n",
    "                '861 Ang Mo Kio Avenue 10 569734','30 Bukit Batok Street 31 659440','20 Choa Chu Kang Street 52 689286','931 Jurong West Street 42 649370',\n",
    "                '1 Yung Sheng Road 618495','90 Boon Lay Way 609958','60 Jurong West Street 91 649040','220 Clementi Avenue 4 129880',\n",
    "                '101 Bukit Panjang Road 679910','35 Teck Whye Avenue 688892']\n",
    "\n",
    "cc_type = ['Moderna','Moderna','Moderna','Moderna','Pfizer','Pfizer','Pfizer','Pfizer','Pfizer','Pfizer','Pfizer','Pfizer','Pfizer','Moderna','Pfizer','Pfizer','Pfizer','Pfizer','Moderna','Moderna','Pfizer','Pfizer','Pfizer','Moderna','Moderna','Pfizer','Pfizer','Pfizer','Pfizer','Moderna','Moderna','Pfizer','Pfizer','Pfizer','Pfizer','Pfizer','Pfizer','Pfizer']    "
   ]
  },
  {
   "cell_type": "code",
   "execution_count": 3,
   "metadata": {},
   "outputs": [],
   "source": [
    "coordinates_tuples = list()\n",
    "for i in range(38):\n",
    "  coordinates_tuples.append((cc_latitudes[i], cc_longitudes[i]))\n",
    "cc_dict = dict(zip(cc_list,coordinates_tuples))"
   ]
  },
  {
   "cell_type": "code",
   "execution_count": null,
   "metadata": {},
   "outputs": [],
   "source": [
    "info = pd.DataFrame(\n",
    "\t{'Name': cc_list,\n",
    " \t'Region': cc_regions,\n",
    " \t'Contact No.':cc_contacts,\n",
    " \t'Latitude': cc_latitudes,\n",
    " \t'Longitude': cc_longitudes,\n",
    "   'Address': cc_addresses,\n",
    "  'Vaccine': cc_type\n",
    "  })\n",
    "info #displays the data frame"
   ]
  },
  {
   "cell_type": "markdown",
   "metadata": {},
   "source": [
    "Now, we shall find the nearest vaccination centers!"
   ]
  },
  {
   "cell_type": "markdown",
   "metadata": {},
   "source": [
    "### Distance function to determine recommendation based on distance"
   ]
  },
  {
   "cell_type": "markdown",
   "metadata": {},
   "source": [
    "<div class=\"alert alert-block alert-warning\">\n",
    "<b>\n",
    "Please enter a valid address below (e.g. Junction 8, Jurong Point, 313 Orchard Road, Sentosa, Sengkang)\n",
    "</b>\n",
    "</div>"
   ]
  },
  {
   "cell_type": "code",
   "execution_count": null,
   "metadata": {},
   "outputs": [],
   "source": [
    "locator = Nominatim(user_agent=\"myGeocoder\")\n",
    "your_Add = input(\"Enter your address (block, street,country): \")\n",
    "user = locator.geocode(your_Add)\n",
    "if user is None:\n",
    "  print (\"Please enter a valid address. Try again\")"
   ]
  },
  {
   "cell_type": "markdown",
   "metadata": {},
   "source": [
    "The Geocode function returns 2 values, the longitude and latitude."
   ]
  },
  {
   "cell_type": "code",
   "execution_count": null,
   "metadata": {},
   "outputs": [],
   "source": [
    "print(user)\n",
    "print(type(user))\n",
    "print(user.latitude, user.longitude)"
   ]
  },
  {
   "cell_type": "markdown",
   "metadata": {},
   "source": [
    "The variable 'user' contains all the information we need. We shall use Geopy's built-in methods 'latitude' and 'longitude'.\n",
    "\n",
    "Now, we can calculate the distance (in km) from the location selected by the user to each of the vaccination centres."
   ]
  },
  {
   "cell_type": "code",
   "execution_count": null,
   "metadata": {},
   "outputs": [],
   "source": [
    "loc1 = (user.latitude, user.longitude)\n",
    "distance_dict = {}\n",
    "for loc2 in cc_dict:\n",
    " loc2_coor = cc_dict[loc2] #access the loc2 key, get the value of that key\n",
    " distance_km = hs.haversine(loc1, loc2_coor)\n",
    " distance_dict[str(loc2)]= distance_km\n",
    "print(distance_dict)"
   ]
  },
  {
   "cell_type": "markdown",
   "metadata": {},
   "source": [
    "We sort the dictionary *distance_dict* based from nearest to farthest."
   ]
  },
  {
   "cell_type": "code",
   "execution_count": null,
   "metadata": {},
   "outputs": [],
   "source": [
    "distance_sorted = sorted(distance_dict.items(), key=lambda x: x[1])\n",
    "print(distance_sorted)"
   ]
  },
  {
   "cell_type": "markdown",
   "metadata": {},
   "source": [
    "### Map Display\n",
    "\n",
    "\n",
    "Now, we can display this information in an interactive way as well!\n",
    "\n",
    "We shall use the python library 'Folium', which provides an intuitive design.\n",
    "\n",
    "First we shall initialise our map."
   ]
  },
  {
   "cell_type": "code",
   "execution_count": 11,
   "metadata": {},
   "outputs": [],
   "source": [
    "#Center the map on user's location\n",
    "map_singapore = folium.Map(width=1600,height=900,\n",
    "                           location=[user.latitude,user.longitude], \n",
    "                           zoom_start=13.5)"
   ]
  },
  {
   "cell_type": "markdown",
   "metadata": {},
   "source": [
    "Add our markers for our vaccination centres."
   ]
  },
  {
   "cell_type": "code",
   "execution_count": 12,
   "metadata": {},
   "outputs": [],
   "source": [
    "for index,row in info.iterrows():\n",
    "    folium.Marker(\n",
    "        [row.loc['Latitude'],row.loc['Longitude']],\n",
    "        popup=row.loc['Name'] + ' Phone: ' + str(row.loc['Contact No.']) +'       '+row.loc['Address'] +' Type: '+ row.loc['Vaccine'],\n",
    "        tooltip=row.loc['Name']).add_to(map_singapore)"
   ]
  },
  {
   "cell_type": "markdown",
   "metadata": {},
   "source": [
    "Finally, let's look at our map.\n",
    "\n",
    "Please run the code, and type how many locations to display.\n",
    "\n",
    "The red maker shows the user's desired location. Hover your cursor over the markers and click for more information.\n"
   ]
  },
  {
   "cell_type": "code",
   "execution_count": null,
   "metadata": {
    "scrolled": false
   },
   "outputs": [],
   "source": [
    "#Show the user's location\n",
    "folium.Marker(\n",
    "    location=[user.latitude, user.longitude], \n",
    "    tooltip=\"Your Location\",\n",
    "    popup=\"Your Location\",\n",
    "    icon=folium.Icon(color=\"red\", icon=\"street-view\", prefix=\"fa\")\n",
    "    ).add_to(map_singapore)\n",
    "\n",
    "\n",
    "print(\"The recommended Covid Vaccincation Centres are: \")\n",
    "count = 0\n",
    "usercount = int(input(\"How many locations would you like us to recommend? \"))\n",
    "for (a,b) in distance_sorted:\n",
    " print (a,round(b,3), \"km\")\n",
    " count += 1\n",
    " if count < usercount:\n",
    "  continue \n",
    " else: \n",
    "   break\n",
    "\n",
    "map_singapore"
   ]
  },
  {
   "cell_type": "markdown",
   "metadata": {},
   "source": [
    "## Part 2: Preparing Our Functions\n",
    "\n",
    "We will define four functions for the user to use."
   ]
  },
  {
   "cell_type": "code",
   "execution_count": null,
   "metadata": {},
   "outputs": [],
   "source": [
    "def locate():\n",
    "    locator = Nominatim(user_agent=\"myGeocoder\")\n",
    "    your_Add = input(\"Enter your address (block, street,country): \")\n",
    "    user = locator.geocode(your_Add)\n",
    "    if user is None:\n",
    "      print (\"Please enter a valid address. Try again\")\n",
    "    loc1 = (user.latitude, user.longitude)\n",
    "    distance_dict = {}\n",
    "    for loc2 in cc_dict:\n",
    "        loc2_coor = cc_dict[loc2] #access the loc2 key, get the value of that key\n",
    "        distance_km = hs.haversine(loc1, loc2_coor)\n",
    "        distance_dict[str(loc2)]= distance_km\n",
    "    distance_sorted = sorted(distance_dict.items(), key=lambda x: x[1])\n",
    "    map_singapore = folium.Map(width=1600,height=900,location=[user.latitude,user.longitude], zoom_start=13.5)\n",
    "    for index,row in info.iterrows():\n",
    "        folium.Marker([row.loc['Latitude'],row.loc['Longitude']],popup=row.loc['Name'] + ' Phone: ' + str(row.loc['Contact No.']) +'       '+row.loc['Address'] +' Type: '+ row.loc['Vaccine'], tooltip=row.loc['Name']).add_to(map_singapore)\n",
    "    folium.Marker(location=[user.latitude, user.longitude], tooltip=\"Your Location\",popup=\"Your Location\",icon=folium.Icon(color=\"red\", icon=\"street-view\", prefix=\"fa\")).add_to(map_singapore)\n",
    "\n",
    "\n",
    "    print(\"The recommended Covid Vaccincation Centres are: \")\n",
    "    count = 0\n",
    "    usercount = int(input(\"How many locations would you like us to recommend? \"))\n",
    "    for (a,b) in distance_sorted:\n",
    "     print (a,round(b,3), \"km\")\n",
    "     count += 1\n",
    "     if count < usercount:\n",
    "      continue \n",
    "     else: \n",
    "       break\n",
    "\n",
    "    display(map_singapore)"
   ]
  },
  {
   "cell_type": "code",
   "execution_count": null,
   "metadata": {},
   "outputs": [],
   "source": [
    "def search():\n",
    "  print('Enter the CC name: ')\n",
    "  selected1 = input()\n",
    "  return info.loc[info['Name'] == selected1]"
   ]
  },
  {
   "cell_type": "code",
   "execution_count": null,
   "metadata": {},
   "outputs": [],
   "source": [
    "def filter_by_vaccine():\n",
    "  selected2 = input()\n",
    "  if selected2=='Pfizer' or selected2=='Moderna':\n",
    "    print(info.loc[info['Vaccine'] == selected2] )\n",
    "  else:\n",
    "    print('Invalid input. Please try again.')"
   ]
  },
  {
   "cell_type": "code",
   "execution_count": null,
   "metadata": {},
   "outputs": [],
   "source": [
    "def filter_by_region():\n",
    "  selected3 = input()\n",
    "  if selected3=='North' or selected3=='Northeast' or selected3=='East' or selected3=='Central' or selected3=='West':\n",
    "    print(info.loc[info['Region'] == selected3] )\n",
    "  else:\n",
    "    print('Invalid input. Please try again.')"
   ]
  },
  {
   "cell_type": "markdown",
   "metadata": {},
   "source": [
    "## Part 3: User interface"
   ]
  },
  {
   "cell_type": "markdown",
   "metadata": {},
   "source": [
    "<div class=\"alert alert-block alert-info\">\n",
    "\n",
    "<b>Hello! This application will help you find your desired vaccination center.</b>\n",
    "    \n",
    "   \n",
    "1. To find the vaccination centers near you, type 'locate()' in the cell below.\n",
    "    \n",
    "\n",
    "2. To find out more details about the nearest vaccination centres, type 'search()' in the cell below.\n",
    "    \n",
    "\n",
    "3. To find out which vaccination centers offers either Pfizer/Moderna, type 'filter_by_vaccine()' in the cell below.\n",
    "    \n",
    "\n",
    "4. To find out which vaccination centers are in your region, type 'filter_by_region()' in the cell below.\n",
    "    \n",
    "</div>"
   ]
  },
  {
   "cell_type": "markdown",
   "metadata": {},
   "source": [
    "\n",
    "### 1. locate()\n",
    "This function condenses the code explained earlier into a user-friendly function."
   ]
  },
  {
   "cell_type": "markdown",
   "metadata": {},
   "source": [
    "<div class=\"alert alert-block alert-info\">\n",
    "\n",
    "1. Ensure that you have run the code in Parts 1 and 2.\n",
    "    \n",
    "2. Type locate()\n",
    "    \n",
    "3. Press Enter\n",
    "\n",
    "4. Type your desired location\n",
    "    \n",
    "5. Type how many locations you would like to show\n",
    "    \n",
    "6. (Optional) Run the cell again to select a different address.\n",
    "</div>"
   ]
  },
  {
   "cell_type": "code",
   "execution_count": 37,
   "metadata": {},
   "outputs": [],
   "source": [
    "locate()"
   ]
  },
  {
   "cell_type": "markdown",
   "metadata": {},
   "source": [
    "## Search function\n",
    "\n",
    "Lastly, we have three search functions to find out more information about the nearest vaccination centres.\n",
    "\n",
    "### 2. search()\n",
    "\n",
    "Find information about any vaccination centre.\n"
   ]
  },
  {
   "cell_type": "markdown",
   "metadata": {},
   "source": [
    "<div class=\"alert alert-block alert-info\">\n",
    "\n",
    "1. Type search()\n",
    "    \n",
    "2. Press Enter\n",
    "\n",
    "3. Type the name of the Vaccination Centre (eg. Bishan CC, Serangoon CC)\n",
    "</div>"
   ]
  },
  {
   "cell_type": "code",
   "execution_count": null,
   "metadata": {},
   "outputs": [],
   "source": [
    "search()"
   ]
  },
  {
   "cell_type": "markdown",
   "metadata": {},
   "source": [
    "### 3. filter_by_vaccine\n",
    "\n",
    "This function help you find the vaccination center offering the vaccine you want, either Pfizer or Moderna."
   ]
  },
  {
   "cell_type": "markdown",
   "metadata": {},
   "source": [
    "<div class=\"alert alert-block alert-info\">\n",
    "\n",
    "1. Type 'filter_by_vaccine()'\n",
    "    \n",
    "2. Press Enter\n",
    "\n",
    "3. Type either 'Pfizer' or 'Moderna'\n",
    "</div>"
   ]
  },
  {
   "cell_type": "code",
   "execution_count": null,
   "metadata": {},
   "outputs": [],
   "source": [
    "filter_by_vaccine()"
   ]
  },
  {
   "cell_type": "markdown",
   "metadata": {},
   "source": [
    "### 4. filter_by_region\n",
    "\n",
    "A way for you to easily find the vaccination center offering the vaccine you want."
   ]
  },
  {
   "cell_type": "markdown",
   "metadata": {},
   "source": [
    "<div class=\"alert alert-block alert-info\">\n",
    "\n",
    "1. Type 'filter_by_region()'\n",
    "    \n",
    "2. Press Enter\n",
    "\n",
    "3. Type either 'North', 'Northeast', 'East', 'Central', or 'West'.\n",
    "</div>"
   ]
  },
  {
   "cell_type": "code",
   "execution_count": null,
   "metadata": {},
   "outputs": [],
   "source": [
    "filter_by_region()"
   ]
  },
  {
   "cell_type": "markdown",
   "metadata": {},
   "source": [
    "Thank you for using our service. We hope our application has served you well.\n",
    "\n",
    "To book your vaccination, please visit https://www.vaccine.gov.sg/"
   ]
  }
 ],
 "metadata": {
  "kernelspec": {
   "display_name": "Python 3",
   "language": "python",
   "name": "python3"
  },
  "language_info": {
   "codemirror_mode": {
    "name": "ipython",
    "version": 3
   },
   "file_extension": ".py",
   "mimetype": "text/x-python",
   "name": "python",
   "nbconvert_exporter": "python",
   "pygments_lexer": "ipython3",
   "version": "3.7.6"
  }
 },
 "nbformat": 4,
 "nbformat_minor": 4
}
