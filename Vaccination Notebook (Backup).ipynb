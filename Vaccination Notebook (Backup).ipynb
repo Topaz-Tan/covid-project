{
 "cells": [
  {
   "cell_type": "markdown",
   "metadata": {},
   "source": [
    "### Information\n",
    "\n",
    "The COVID-19 vaccination programme seeks to protect Singaporeans against COVID-19, as well as to protect businesses and jobs through the progressive re-opening of Singapore. Vaccination is free to all Singaporeans and long-term residents in Singapore.\n",
    "\n",
    "Visit https://www.vaccine.gov.sg/ today to book your appointment today."
   ]
  },
  {
   "cell_type": "code",
   "execution_count": null,
   "metadata": {},
   "outputs": [],
   "source": [
    "!pip install geopy\n",
    "!pip install haversine\n",
    "!pip install folium\n",
    "import numpy as np\n",
    "import pandas as pd\n",
    "import folium # map rendering library\n",
    "import json\n",
    "import http.client, urllib.parse #API\n",
    "import haversine as hs #Haversine function\n",
    "\n",
    "print('Libraries imported.')"
   ]
  },
  {
   "cell_type": "code",
   "execution_count": null,
   "metadata": {},
   "outputs": [],
   "source": [
    "cc_list=['Bishan CC','Teck Ghee CC','Toa Payoh West CC','Jalan Besar CC','Raffles Convention Centre','Arena@OTH Tampines','Bedok CC','Changi Airport T4','Marine Parade CC','Pasir Ris Elias CC','Wisma Geylang Serai CC','Woodlands Galaxy CC','Marsiling CC','Canberra CC','Hougang CC','Punggol 21 CC','Sengkang CC','Serangoon CC','Queenstown CC','Radin Mas CC','Tanjong Pagar CC','Bukit Timah CC','Choa Chu Kang CC','Clementi CC','Former Hong Kah Secondary School','Hong Kah North CC','Nanyang CC','Senja-Cashew CC','Taman Jurong CC','Yuhua CC'] \n",
    "\n",
    "cc_regions = ['Central','Central','Central','Central','Central','East','East','East','East','East','East','North','North','North','Northeast','Northeast','Northeast','Northeast','South','South','South','West','West','West','West','West','West','West','West','West']\n",
    "\n",
    "cc_latitudes = [1.3496, 1.363, 1.3351, 1.3079, 1.2939, 1.3522, 1.3243, 1.338, 1.3048, 1.3784, 1.3165, 1.439, 1.4407, 1.445, 1.365, 1.3935, 1.3927, 1.37, 1.299, 1.276, 1.276, 1.341, 1.381, 1.319, 1.352, 1.3591, 1.3425, 1.381, 1.3353, 1.34]\n",
    "\n",
    "cc_longitudes = [103.851, 103.8535, 103.8451, 103.8617, 103.8536, 103.9396, 103.936, 103.9835, 103.9093, 103.9426, 103.897, 103.8026, 103.7737, 103.8198, 103.892, 103.9135, 103.894, 103.874, 103.8014, 103.8197, 103.8415, 103.7718, 103.752, 103.768, 103.727, 103.7495, 103.6923, 103.7646, 103.722, 103.737]\n",
    "\n",
    "cc_longitudes = [103.851, 103.8535, 103.8451, 103.8617, 103.8536, 103.9396, 103.936, 103.9835, 103.9093, 103.9426, 103.897, 103.8026, 103.7737, 103.8198, 103.892, 103.9135, 103.894, 103.874, 103.8014, 103.8197, 103.8415, 103.7718, 103.752, 103.768, 103.727, 103.7495, 103.6923, 103.7646, 103.722, 103.737]\n",
    "\n",
    "cc_contacts = [62594720, 64567123, 63530577, 62986110, 63397777, 63403636, 64425317, 65956868, 63467703, 65831220, 67472919, 63662218, 62696768, 67556369, 62828887, 63120508, 63125400, 62858833, 64741681, 62735294, 62219898, 64662912, 67691694, 67762517, 65679655, 65673130, 67910395, 62194561, 62651711, 65604490]"
   ]
  },
  {
   "cell_type": "code",
   "execution_count": null,
   "metadata": {},
   "outputs": [],
   "source": [
    " cc_dict={'Bishan CC':(1.3496,103.851),\n",
    "           'Teck Ghee CC':(1.363,103.8535),\n",
    "           'Toa Payoh West CC':(1.3351,103.8451),\n",
    "           'Jalan Besar CC':(1.3079,103.8617),\n",
    "           'Raffles Convention Centre':(1.2939,103.8536),\n",
    "           'Arena@OTH Tampines':(1.3522,103.9396),\n",
    "           'Bedok CC':(1.3243,103.936),\n",
    "           'Changi Airport T4':(1.338,103.9835),\n",
    "           'Marine Parade CC':(1.3048,103.9093),\n",
    "           'Pasir Ris Elias CC':(1.3784,103.9426),\n",
    "           'Wisma Geylang Serai CC':(1.3165,103.897),\n",
    "           'Woodlands Galaxy CC':(1.439,103.8026),\n",
    "           'Marsiling CC':(1.4407,103.7737),\n",
    "           'Canberra CC':(1.445,103.8198),\n",
    "           'Hougang CC':(1.365,103.892),\n",
    "           'Punggol 21 CC':(1.3935,103.9135),\n",
    "           'Sengkang CC':(1.3927,103.894),\n",
    "           'Serangoon CC':(1.37,103.874),\n",
    "           'Queenstown CC':(1.299,103.8014),\n",
    "           'Radin Mas CC':(1.276,103.8197),\n",
    "           'Tanjong Pagar CC':(1.276,103.8415),\n",
    "           'Bukit Timah CC':(1.341,103.7718),\n",
    "           'Choa Chu Kang CC':(1.381,103.752),\n",
    "           'Clementi CC':(1.319,103.768),\n",
    "           'Former Hong Kah Secondary School':(1.352,103.727),\n",
    "           'Hong Kah North CC':(1.3591,103.7495),\n",
    "           'Nanyang CC':(1.3425,103.6923),\n",
    "           'Senja-Cashew CC':(1.381,103.7646),\n",
    "           'Taman Jurong CC':(1.3353,103.722),\n",
    "           'Yuhua CC':(1.34,103.737)}"
   ]
  },
  {
   "cell_type": "code",
   "execution_count": null,
   "metadata": {},
   "outputs": [],
   "source": [
    "info = pd.DataFrame(\n",
    "\t{'Name': cc_list,\n",
    " \t'Region': cc_regions,\n",
    " \t'Contact No.':cc_contacts,\n",
    " \t'Latitude': cc_latitudes,\n",
    " \t'Longitude': cc_longitudes\n",
    "\t})\n",
    "info #displays the data frame"
   ]
  },
  {
   "cell_type": "code",
   "execution_count": null,
   "metadata": {},
   "outputs": [],
   "source": [
    "#create the map\n",
    "sg_latitude = 1.36\n",
    "sg_longitude = 103.83\n",
    "print('The geographical coordinates of Singapore are', sg_latitude,',',sg_longitude,'.')"
   ]
  },
  {
   "cell_type": "code",
   "execution_count": null,
   "metadata": {},
   "outputs": [],
   "source": [
    "#create map of Singapore using latitude and longitude values\n",
    "map_singapore = folium.Map(location=[sg_latitude, sg_longitude], zoom_start=11.5)\n",
    "map_singapore"
   ]
  },
  {
   "cell_type": "markdown",
   "metadata": {},
   "source": [
    "Now, we shall find the nearest vaccination centers!"
   ]
  },
  {
   "cell_type": "markdown",
   "metadata": {},
   "source": [
    "### Distance function to determine recommendation based on distance"
   ]
  },
  {
   "cell_type": "code",
   "execution_count": null,
   "metadata": {},
   "outputs": [],
   "source": [
    "import haversine as hs \n",
    "\n",
    "from geopy.geocoders import Nominatim\n",
    "locator = Nominatim(user_agent=\"myGeocoder\")\n",
    "your_Add = input(\"Enter your address (block, street,country): \")\n",
    "user = locator.geocode(your_Add)"
   ]
  },
  {
   "cell_type": "markdown",
   "metadata": {},
   "source": [
    "The Geocode function returns 2 values, the longitude and latitude."
   ]
  },
  {
   "cell_type": "code",
   "execution_count": null,
   "metadata": {},
   "outputs": [],
   "source": [
    "print(user)\n",
    "print(type(user))\n",
    "print(user.latitude, user.longitude)"
   ]
  },
  {
   "cell_type": "markdown",
   "metadata": {},
   "source": [
    "The variable 'user' contains all the information we need. We shall use Geopy's built-in methods 'latitude' and 'longitude'."
   ]
  },
  {
   "cell_type": "markdown",
   "metadata": {},
   "source": [
    "Now, we can calculate the distance (in km) from the location selected by the user to each of the vaccination centres."
   ]
  },
  {
   "cell_type": "code",
   "execution_count": null,
   "metadata": {},
   "outputs": [],
   "source": [
    "loc1 = (user.latitude, user.longitude)\n",
    "distance_dict = {}\n",
    "for loc2 in cc_dict:\n",
    " loc2_coor = cc_dict[loc2] #access the loc2 key, get the value of that key\n",
    " distance_km = hs.haversine(loc1, loc2_coor)\n",
    " distance_dict[str(loc2)]= distance_km\n",
    "print(distance_dict)"
   ]
  },
  {
   "cell_type": "markdown",
   "metadata": {},
   "source": [
    "We sort the dictionary distance_dict based from nearest to farthest."
   ]
  },
  {
   "cell_type": "code",
   "execution_count": null,
   "metadata": {},
   "outputs": [],
   "source": [
    "distance_sorted = sorted(distance_dict.items(), key=lambda x: x[1])\n",
    "print(distance_sorted)"
   ]
  },
  {
   "cell_type": "markdown",
   "metadata": {},
   "source": [
    "Finally, we can display the nearest 5 vaccination centers."
   ]
  },
  {
   "cell_type": "code",
   "execution_count": null,
   "metadata": {},
   "outputs": [],
   "source": [
    "for i in range(5):\n",
    "  print(distance_sorted[i])"
   ]
  },
  {
   "cell_type": "markdown",
   "metadata": {},
   "source": [
    "### Map Display\n",
    "\n",
    "Now, we can display this information in an interactive way as well!\n",
    "\n",
    "We shall use the python library 'Folium', which provides an intuitive design."
   ]
  },
  {
   "cell_type": "markdown",
   "metadata": {},
   "source": [
    "First we shall initialise our map."
   ]
  },
  {
   "cell_type": "code",
   "execution_count": null,
   "metadata": {},
   "outputs": [],
   "source": [
    "#Center the map on user's location\n",
    "map_singapore = folium.Map(width=800,height=450,location=[user.latitude,user.longitude], zoom_start=13)"
   ]
  },
  {
   "cell_type": "markdown",
   "metadata": {},
   "source": [
    "Add our markers for our vaccination centres."
   ]
  },
  {
   "cell_type": "code",
   "execution_count": null,
   "metadata": {},
   "outputs": [],
   "source": [
    "for index,row in info.iterrows():\n",
    "    folium.Marker(\n",
    "        [row.loc['Latitude'],row.loc['Longitude']],\n",
    "        popup=row.loc['Name'] + ' Phone: '+ str(row.loc['Contact No.']),\n",
    "        tooltip=row.loc['Name']).add_to(map_singapore)  "
   ]
  },
  {
   "cell_type": "markdown",
   "metadata": {},
   "source": [
    "Finally, let's look at our map.\n",
    "\n",
    "We can show the user's location as well, indicated by the red circle. Hover your cursor over the markers and click for more information.\n"
   ]
  },
  {
   "cell_type": "code",
   "execution_count": null,
   "metadata": {},
   "outputs": [],
   "source": [
    "#Show the user's location\n",
    "folium.CircleMarker(\n",
    "    location=[user.latitude, user.longitude],\n",
    "    radius=5, \n",
    "    tooltip='Your Location',\n",
    "    color='crimson',\n",
    "    fill=True, \n",
    "    fill_color='crimson',\n",
    "    fill_opacity=0.7).add_to(map_singapore)\n",
    "\n",
    "for i in range(5):\n",
    "  print(distance_sorted[i])\n",
    "\n",
    "map_singapore"
   ]
  }
 ],
 "metadata": {
  "kernelspec": {
   "display_name": "Python 3",
   "language": "python",
   "name": "python3"
  },
  "language_info": {
   "codemirror_mode": {
    "name": "ipython",
    "version": 3
   },
   "file_extension": ".py",
   "mimetype": "text/x-python",
   "name": "python",
   "nbconvert_exporter": "python",
   "pygments_lexer": "ipython3",
   "version": "3.7.6"
  }
 },
 "nbformat": 4,
 "nbformat_minor": 4
}
